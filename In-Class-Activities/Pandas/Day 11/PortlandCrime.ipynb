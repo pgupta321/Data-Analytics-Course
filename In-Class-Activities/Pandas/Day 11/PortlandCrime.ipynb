{
 "cells": [
  {
   "cell_type": "code",
   "execution_count": 32,
   "metadata": {},
   "outputs": [],
   "source": [
    "# Import Dependencies\n",
    "import pandas as pd"
   ]
  },
  {
   "cell_type": "code",
   "execution_count": 33,
   "metadata": {},
   "outputs": [],
   "source": [
    "# Reference the file where the CSV is located\n",
    "path = \"../../../Resources/04-Pandas_Day11_04-Par_PortlandCrime_Unsolved_Resources_crime_incident_data2017.csv\"\n",
    "datafile = pd.read_csv(path)\n",
    "\n",
    "# Import the data into a Pandas DataFrame\n",
    "df = pd.DataFrame(datafile)"
   ]
  },
  {
   "cell_type": "code",
   "execution_count": 34,
   "metadata": {},
   "outputs": [
    {
     "data": {
      "text/plain": [
       "Address              37365\n",
       "Case Number          41032\n",
       "Crime Against        41032\n",
       "Neighborhood         39712\n",
       "Number of Records    41032\n",
       "Occur Date           41032\n",
       "Occur Month Year     41032\n",
       "Occur Time           41032\n",
       "Offense Category     41032\n",
       "Offense Count        41032\n",
       "Offense Type         41032\n",
       "Open Data Lat        36712\n",
       "Open Data Lon        36712\n",
       "Open Data X          36712\n",
       "Open Data Y          36712\n",
       "Report Date          41032\n",
       "Report Month Year    41032\n",
       "dtype: int64"
      ]
     },
     "execution_count": 34,
     "metadata": {},
     "output_type": "execute_result"
    }
   ],
   "source": [
    "# look for missing values\n",
    "df.count()"
   ]
  },
  {
   "cell_type": "code",
   "execution_count": 35,
   "metadata": {},
   "outputs": [],
   "source": [
    "# drop null rows\n",
    "df = df.dropna(how='any')"
   ]
  },
  {
   "cell_type": "code",
   "execution_count": 36,
   "metadata": {},
   "outputs": [
    {
     "data": {
      "text/plain": [
       "Address              36146\n",
       "Case Number          36146\n",
       "Crime Against        36146\n",
       "Neighborhood         36146\n",
       "Number of Records    36146\n",
       "Occur Date           36146\n",
       "Occur Month Year     36146\n",
       "Occur Time           36146\n",
       "Offense Category     36146\n",
       "Offense Count        36146\n",
       "Offense Type         36146\n",
       "Open Data Lat        36146\n",
       "Open Data Lon        36146\n",
       "Open Data X          36146\n",
       "Open Data Y          36146\n",
       "Report Date          36146\n",
       "Report Month Year    36146\n",
       "dtype: int64"
      ]
     },
     "execution_count": 36,
     "metadata": {},
     "output_type": "execute_result"
    }
   ],
   "source": [
    "# verify counts\n",
    "df.count()"
   ]
  },
  {
   "cell_type": "code",
   "execution_count": 37,
   "metadata": {
    "scrolled": true
   },
   "outputs": [
    {
     "data": {
      "text/plain": [
       "Theft From Motor Vehicle                       6947\n",
       "Motor Vehicle Theft                            4689\n",
       "All Other Larceny                              4558\n",
       "Vandalism                                      3863\n",
       "Burglary                                       2824\n",
       "Shoplifting                                    2259\n",
       "Identity Theft                                 1794\n",
       "Simple Assault                                 1216\n",
       "Drug/Narcotic Violations                       1095\n",
       "Theft of Motor Vehicle Parts or Accessories    1073\n",
       "Intimidation                                    900\n",
       "Theft From Building                             895\n",
       "False Pretenses/Swindle/Confidence Game         870\n",
       "Aggravated Assault                              839\n",
       "Robbery                                         608\n",
       "Counterfeiting/Forgery                          448\n",
       "Weapons Law Violations                          266\n",
       "Credit Card/ATM Fraud                           226\n",
       "Arson                                           200\n",
       "Prostitution                                    145\n",
       "Pocket-Picking                                   94\n",
       "Purse-Snatching                                  89\n",
       "Embezzlement                                     73\n",
       "Stolen Property Offenses                         57\n",
       "Kidnapping/Abduction                             22\n",
       "Theft From Coin-Operated Machine or Device       20\n",
       "Hacking/Computer Invasion                        19\n",
       "Animal Cruelty                                   17\n",
       "Pornography/Obscene Material                     10\n",
       "Extortion/Blackmail                               8\n",
       "Assisting or Promoting Prostitution               7\n",
       "Drug Equipment Violations                         6\n",
       "Impersonation                                     4\n",
       "Wire Fraud                                        3\n",
       "Welfare Fraud                                     1\n",
       "Commercial Sex Acts                               1\n",
       "Name: Offense Type, dtype: int64"
      ]
     },
     "execution_count": 37,
     "metadata": {},
     "output_type": "execute_result"
    }
   ],
   "source": [
    "# Check to see if there are any values with mispelled or similar values in \"Offense Type\"\n",
    "df[\"Offense Type\"].value_counts()"
   ]
  },
  {
   "cell_type": "code",
   "execution_count": 38,
   "metadata": {},
   "outputs": [],
   "source": [
    "# Combine similar offenses\n",
    "df[\"Offense Type\"] = df[\"Offense Type\"].replace({\"Theft From Building\" : \"Stolen Property Offenses\"})"
   ]
  },
  {
   "cell_type": "code",
   "execution_count": 39,
   "metadata": {},
   "outputs": [
    {
     "data": {
      "text/plain": [
       "Theft From Motor Vehicle                       6947\n",
       "Motor Vehicle Theft                            4689\n",
       "All Other Larceny                              4558\n",
       "Vandalism                                      3863\n",
       "Burglary                                       2824\n",
       "Shoplifting                                    2259\n",
       "Identity Theft                                 1794\n",
       "Simple Assault                                 1216\n",
       "Drug/Narcotic Violations                       1095\n",
       "Theft of Motor Vehicle Parts or Accessories    1073\n",
       "Stolen Property Offenses                        952\n",
       "Intimidation                                    900\n",
       "False Pretenses/Swindle/Confidence Game         870\n",
       "Aggravated Assault                              839\n",
       "Robbery                                         608\n",
       "Counterfeiting/Forgery                          448\n",
       "Weapons Law Violations                          266\n",
       "Credit Card/ATM Fraud                           226\n",
       "Arson                                           200\n",
       "Prostitution                                    145\n",
       "Pocket-Picking                                   94\n",
       "Purse-Snatching                                  89\n",
       "Embezzlement                                     73\n",
       "Kidnapping/Abduction                             22\n",
       "Theft From Coin-Operated Machine or Device       20\n",
       "Hacking/Computer Invasion                        19\n",
       "Animal Cruelty                                   17\n",
       "Pornography/Obscene Material                     10\n",
       "Extortion/Blackmail                               8\n",
       "Assisting or Promoting Prostitution               7\n",
       "Drug Equipment Violations                         6\n",
       "Impersonation                                     4\n",
       "Wire Fraud                                        3\n",
       "Welfare Fraud                                     1\n",
       "Commercial Sex Acts                               1\n",
       "Name: Offense Type, dtype: int64"
      ]
     },
     "execution_count": 39,
     "metadata": {},
     "output_type": "execute_result"
    }
   ],
   "source": [
    "# Check to see if you comnbined similar offenses correctly in \"Offense Type\".\n",
    "df[\"Offense Type\"].value_counts()"
   ]
  },
  {
   "cell_type": "code",
   "execution_count": 43,
   "metadata": {},
   "outputs": [],
   "source": [
    "# Create a new DataFrame that looks into a specific neighborhood\n",
    "df_Vernon = df.loc[df[\"Neighborhood\"] == \"Vernon\", :]"
   ]
  },
  {
   "cell_type": "code",
   "execution_count": 44,
   "metadata": {},
   "outputs": [
    {
     "data": {
      "text/html": [
       "<div>\n",
       "<style scoped>\n",
       "    .dataframe tbody tr th:only-of-type {\n",
       "        vertical-align: middle;\n",
       "    }\n",
       "\n",
       "    .dataframe tbody tr th {\n",
       "        vertical-align: top;\n",
       "    }\n",
       "\n",
       "    .dataframe thead th {\n",
       "        text-align: right;\n",
       "    }\n",
       "</style>\n",
       "<table border=\"1\" class=\"dataframe\">\n",
       "  <thead>\n",
       "    <tr style=\"text-align: right;\">\n",
       "      <th></th>\n",
       "      <th>Address</th>\n",
       "      <th>Case Number</th>\n",
       "      <th>Crime Against</th>\n",
       "      <th>Neighborhood</th>\n",
       "      <th>Number of Records</th>\n",
       "      <th>Occur Date</th>\n",
       "      <th>Occur Month Year</th>\n",
       "      <th>Occur Time</th>\n",
       "      <th>Offense Category</th>\n",
       "      <th>Offense Count</th>\n",
       "      <th>Offense Type</th>\n",
       "      <th>Open Data Lat</th>\n",
       "      <th>Open Data Lon</th>\n",
       "      <th>Open Data X</th>\n",
       "      <th>Open Data Y</th>\n",
       "      <th>Report Date</th>\n",
       "      <th>Report Month Year</th>\n",
       "    </tr>\n",
       "  </thead>\n",
       "  <tbody>\n",
       "    <tr>\n",
       "      <th>6</th>\n",
       "      <td>5000 BLOCK OF NE 19TH AVE</td>\n",
       "      <td>17-901079</td>\n",
       "      <td>Property</td>\n",
       "      <td>Vernon</td>\n",
       "      <td>1</td>\n",
       "      <td>11/8/13</td>\n",
       "      <td>11/1/13</td>\n",
       "      <td>1200</td>\n",
       "      <td>Fraud Offenses</td>\n",
       "      <td>1</td>\n",
       "      <td>False Pretenses/Swindle/Confidence Game</td>\n",
       "      <td>45.5594</td>\n",
       "      <td>-122.646</td>\n",
       "      <td>7652567.0</td>\n",
       "      <td>697337.0</td>\n",
       "      <td>1/26/17</td>\n",
       "      <td>1/1/17</td>\n",
       "    </tr>\n",
       "    <tr>\n",
       "      <th>7</th>\n",
       "      <td>5000 BLOCK OF NE 19TH AVE</td>\n",
       "      <td>17-901079</td>\n",
       "      <td>Property</td>\n",
       "      <td>Vernon</td>\n",
       "      <td>1</td>\n",
       "      <td>11/8/13</td>\n",
       "      <td>11/1/13</td>\n",
       "      <td>1200</td>\n",
       "      <td>Fraud Offenses</td>\n",
       "      <td>1</td>\n",
       "      <td>Identity Theft</td>\n",
       "      <td>45.5594</td>\n",
       "      <td>-122.646</td>\n",
       "      <td>7652567.0</td>\n",
       "      <td>697337.0</td>\n",
       "      <td>1/26/17</td>\n",
       "      <td>1/1/17</td>\n",
       "    </tr>\n",
       "    <tr>\n",
       "      <th>147</th>\n",
       "      <td>1000 BLOCK OF NE EMERSON ST</td>\n",
       "      <td>17-901190</td>\n",
       "      <td>Property</td>\n",
       "      <td>Vernon</td>\n",
       "      <td>1</td>\n",
       "      <td>11/26/16</td>\n",
       "      <td>11/1/16</td>\n",
       "      <td>2040</td>\n",
       "      <td>Fraud Offenses</td>\n",
       "      <td>1</td>\n",
       "      <td>Identity Theft</td>\n",
       "      <td>45.5619</td>\n",
       "      <td>-122.655</td>\n",
       "      <td>7650320.0</td>\n",
       "      <td>698297.0</td>\n",
       "      <td>1/29/17</td>\n",
       "      <td>1/1/17</td>\n",
       "    </tr>\n",
       "    <tr>\n",
       "      <th>148</th>\n",
       "      <td>1000 BLOCK OF NE EMERSON ST</td>\n",
       "      <td>17-901190</td>\n",
       "      <td>Property</td>\n",
       "      <td>Vernon</td>\n",
       "      <td>1</td>\n",
       "      <td>11/26/16</td>\n",
       "      <td>11/1/16</td>\n",
       "      <td>2040</td>\n",
       "      <td>Larceny Offenses</td>\n",
       "      <td>1</td>\n",
       "      <td>All Other Larceny</td>\n",
       "      <td>45.5619</td>\n",
       "      <td>-122.655</td>\n",
       "      <td>7650320.0</td>\n",
       "      <td>698297.0</td>\n",
       "      <td>1/29/17</td>\n",
       "      <td>1/1/17</td>\n",
       "    </tr>\n",
       "    <tr>\n",
       "      <th>271</th>\n",
       "      <td>5300 BLOCK OF NE 14TH PL</td>\n",
       "      <td>17-2593</td>\n",
       "      <td>Property</td>\n",
       "      <td>Vernon</td>\n",
       "      <td>1</td>\n",
       "      <td>12/19/16</td>\n",
       "      <td>12/1/16</td>\n",
       "      <td>900</td>\n",
       "      <td>Larceny Offenses</td>\n",
       "      <td>1</td>\n",
       "      <td>All Other Larceny</td>\n",
       "      <td>45.5618</td>\n",
       "      <td>-122.651</td>\n",
       "      <td>7651314.0</td>\n",
       "      <td>698264.0</td>\n",
       "      <td>1/3/17</td>\n",
       "      <td>1/1/17</td>\n",
       "    </tr>\n",
       "  </tbody>\n",
       "</table>\n",
       "</div>"
      ],
      "text/plain": [
       "                         Address Case Number Crime Against Neighborhood  \\\n",
       "6      5000 BLOCK OF NE 19TH AVE   17-901079      Property       Vernon   \n",
       "7      5000 BLOCK OF NE 19TH AVE   17-901079      Property       Vernon   \n",
       "147  1000 BLOCK OF NE EMERSON ST   17-901190      Property       Vernon   \n",
       "148  1000 BLOCK OF NE EMERSON ST   17-901190      Property       Vernon   \n",
       "271     5300 BLOCK OF NE 14TH PL     17-2593      Property       Vernon   \n",
       "\n",
       "     Number of Records Occur Date Occur Month Year  Occur Time  \\\n",
       "6                    1    11/8/13          11/1/13        1200   \n",
       "7                    1    11/8/13          11/1/13        1200   \n",
       "147                  1   11/26/16          11/1/16        2040   \n",
       "148                  1   11/26/16          11/1/16        2040   \n",
       "271                  1   12/19/16          12/1/16         900   \n",
       "\n",
       "     Offense Category  Offense Count                             Offense Type  \\\n",
       "6      Fraud Offenses              1  False Pretenses/Swindle/Confidence Game   \n",
       "7      Fraud Offenses              1                           Identity Theft   \n",
       "147    Fraud Offenses              1                           Identity Theft   \n",
       "148  Larceny Offenses              1                        All Other Larceny   \n",
       "271  Larceny Offenses              1                        All Other Larceny   \n",
       "\n",
       "     Open Data Lat  Open Data Lon  Open Data X  Open Data Y Report Date  \\\n",
       "6          45.5594       -122.646    7652567.0     697337.0     1/26/17   \n",
       "7          45.5594       -122.646    7652567.0     697337.0     1/26/17   \n",
       "147        45.5619       -122.655    7650320.0     698297.0     1/29/17   \n",
       "148        45.5619       -122.655    7650320.0     698297.0     1/29/17   \n",
       "271        45.5618       -122.651    7651314.0     698264.0      1/3/17   \n",
       "\n",
       "    Report Month Year  \n",
       "6              1/1/17  \n",
       "7              1/1/17  \n",
       "147            1/1/17  \n",
       "148            1/1/17  \n",
       "271            1/1/17  "
      ]
     },
     "execution_count": 44,
     "metadata": {},
     "output_type": "execute_result"
    }
   ],
   "source": [
    "df_Vernon.head()"
   ]
  },
  {
   "cell_type": "code",
   "execution_count": null,
   "metadata": {},
   "outputs": [],
   "source": []
  }
 ],
 "metadata": {
  "kernelspec": {
   "display_name": "Python 3",
   "language": "python",
   "name": "python3"
  },
  "language_info": {
   "codemirror_mode": {
    "name": "ipython",
    "version": 3
   },
   "file_extension": ".py",
   "mimetype": "text/x-python",
   "name": "python",
   "nbconvert_exporter": "python",
   "pygments_lexer": "ipython3",
   "version": "3.7.3"
  }
 },
 "nbformat": 4,
 "nbformat_minor": 2
}
