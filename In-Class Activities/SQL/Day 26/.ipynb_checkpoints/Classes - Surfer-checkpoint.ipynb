{
 "cells": [
  {
   "cell_type": "code",
   "execution_count": 22,
   "metadata": {},
   "outputs": [],
   "source": [
    "class Surfer():\n",
    "    \n",
    "    count = 0\n",
    "    \n",
    "    def __init__(self, name, hometown, rank, wipeouts):\n",
    "        self.name = name\n",
    "        self.hometown = hometown\n",
    "        self.rank = rank\n",
    "        self.wipeouts = wipeouts\n",
    "        Surfer.count += 1 \n",
    "        \n",
    "    def speak(self):\n",
    "        print(\"Hangs loose, bruh!\")\n",
    "    \n",
    "    def biography(self):\n",
    "        print(f'{self.name} is from {self.hometown}')\n",
    "        \n",
    "    def cheer(self):\n",
    "        if wipeouts == 0:\n",
    "            print(\"I totally rock man, no wipeouts!\")\n",
    "        else:\n",
    "            print('Bummer bruh, keep on keeping on!')\n",
    "            \n",
    "    def shredders(self):\n",
    "        print(f\"Dude, there's like, {Surfer.count} dudes shredding those waves, man!\")"
   ]
  },
  {
   "cell_type": "code",
   "execution_count": 23,
   "metadata": {},
   "outputs": [],
   "source": [
    "surfer1 = Surfer('fred', \"twon\", 2, 0)\n",
    "surfer2 = Surfer('mahaleel', 'twon', 4, 2)"
   ]
  },
  {
   "cell_type": "code",
   "execution_count": 24,
   "metadata": {},
   "outputs": [
    {
     "name": "stdout",
     "output_type": "stream",
     "text": [
      "fred twon 2\n"
     ]
    }
   ],
   "source": [
    "print(surfer1.name, surfer1.hometown, surfer1.rank)"
   ]
  },
  {
   "cell_type": "code",
   "execution_count": 26,
   "metadata": {},
   "outputs": [
    {
     "name": "stdout",
     "output_type": "stream",
     "text": [
      "Dude, there's like, 2 dudes shredding those waves, man!\n",
      "None\n"
     ]
    }
   ],
   "source": [
    "print(surfer2.shredders())"
   ]
  },
  {
   "cell_type": "code",
   "execution_count": null,
   "metadata": {},
   "outputs": [],
   "source": []
  }
 ],
 "metadata": {
  "kernelspec": {
   "display_name": "Python 3",
   "language": "python",
   "name": "python3"
  },
  "language_info": {
   "codemirror_mode": {
    "name": "ipython",
    "version": 3
   },
   "file_extension": ".py",
   "mimetype": "text/x-python",
   "name": "python",
   "nbconvert_exporter": "python",
   "pygments_lexer": "ipython3",
   "version": "3.7.3"
  }
 },
 "nbformat": 4,
 "nbformat_minor": 2
}
