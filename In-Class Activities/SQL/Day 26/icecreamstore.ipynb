{
 "cells": [
  {
   "cell_type": "code",
   "execution_count": 2,
   "metadata": {},
   "outputs": [],
   "source": [
    "# SQL Alchemy\n",
    "from sqlalchemy import create_engine\n",
    "\n",
    "database_path = \"icecreamstore.sqlite\""
   ]
  },
  {
   "cell_type": "code",
   "execution_count": 3,
   "metadata": {},
   "outputs": [],
   "source": [
    "# Create an engine to connect to the database\n",
    "engine = create_engine(f\"sqlite:///{database_path}\")"
   ]
  },
  {
   "cell_type": "code",
   "execution_count": 4,
   "metadata": {},
   "outputs": [
    {
     "name": "stdout",
     "output_type": "stream",
     "text": [
      "(1, 'Vanilla', 100, 1)\n",
      "(2, 'Chocolate', 150, 1.25)\n",
      "(3, 'Strawberry', 95, 1.25)\n",
      "(4, 'Rocky Road', 50, 1.5)\n",
      "(5, 'Cookie Dough', 75, 1.5)\n",
      "(25, 'testflavor', 5, 0.25)\n"
     ]
    }
   ],
   "source": [
    "data = engine.execute('select * from icecreamstore')\n",
    "\n",
    "for record in data:\n",
    "    print(record)"
   ]
  },
  {
   "cell_type": "code",
   "execution_count": 5,
   "metadata": {},
   "outputs": [
    {
     "data": {
      "text/html": [
       "<div>\n",
       "<style scoped>\n",
       "    .dataframe tbody tr th:only-of-type {\n",
       "        vertical-align: middle;\n",
       "    }\n",
       "\n",
       "    .dataframe tbody tr th {\n",
       "        vertical-align: top;\n",
       "    }\n",
       "\n",
       "    .dataframe thead th {\n",
       "        text-align: right;\n",
       "    }\n",
       "</style>\n",
       "<table border=\"1\" class=\"dataframe\">\n",
       "  <thead>\n",
       "    <tr style=\"text-align: right;\">\n",
       "      <th></th>\n",
       "      <th>ID</th>\n",
       "      <th>Flavors</th>\n",
       "      <th>Quantities</th>\n",
       "      <th>Price</th>\n",
       "    </tr>\n",
       "  </thead>\n",
       "  <tbody>\n",
       "    <tr>\n",
       "      <th>0</th>\n",
       "      <td>1</td>\n",
       "      <td>Vanilla</td>\n",
       "      <td>100</td>\n",
       "      <td>1.00</td>\n",
       "    </tr>\n",
       "    <tr>\n",
       "      <th>1</th>\n",
       "      <td>2</td>\n",
       "      <td>Chocolate</td>\n",
       "      <td>150</td>\n",
       "      <td>1.25</td>\n",
       "    </tr>\n",
       "    <tr>\n",
       "      <th>2</th>\n",
       "      <td>3</td>\n",
       "      <td>Strawberry</td>\n",
       "      <td>95</td>\n",
       "      <td>1.25</td>\n",
       "    </tr>\n",
       "    <tr>\n",
       "      <th>3</th>\n",
       "      <td>4</td>\n",
       "      <td>Rocky Road</td>\n",
       "      <td>50</td>\n",
       "      <td>1.50</td>\n",
       "    </tr>\n",
       "    <tr>\n",
       "      <th>4</th>\n",
       "      <td>5</td>\n",
       "      <td>Cookie Dough</td>\n",
       "      <td>75</td>\n",
       "      <td>1.50</td>\n",
       "    </tr>\n",
       "    <tr>\n",
       "      <th>5</th>\n",
       "      <td>25</td>\n",
       "      <td>testflavor</td>\n",
       "      <td>5</td>\n",
       "      <td>0.25</td>\n",
       "    </tr>\n",
       "  </tbody>\n",
       "</table>\n",
       "</div>"
      ],
      "text/plain": [
       "   ID       Flavors  Quantities  Price\n",
       "0   1       Vanilla         100   1.00\n",
       "1   2     Chocolate         150   1.25\n",
       "2   3    Strawberry          95   1.25\n",
       "3   4    Rocky Road          50   1.50\n",
       "4   5  Cookie Dough          75   1.50\n",
       "5  25    testflavor           5   0.25"
      ]
     },
     "execution_count": 5,
     "metadata": {},
     "output_type": "execute_result"
    }
   ],
   "source": [
    "import pandas as pd\n",
    "\n",
    "conn = engine.connect()\n",
    "data = pd.read_sql('select * from icecreamstore', conn)\n",
    "data"
   ]
  },
  {
   "cell_type": "code",
   "execution_count": 6,
   "metadata": {},
   "outputs": [
    {
     "name": "stdout",
     "output_type": "stream",
     "text": [
      "(2, 'Chocolate', 150, 1.25)\n",
      "(3, 'Strawberry', 95, 1.25)\n",
      "(4, 'Rocky Road', 50, 1.5)\n",
      "(5, 'Cookie Dough', 75, 1.5)\n"
     ]
    }
   ],
   "source": [
    "data = engine.execute(\"SELECT * FROM icecreamstore WHERE Price>=1.25;\")\n",
    "for record in data:\n",
    "    print(record)"
   ]
  },
  {
   "cell_type": "code",
   "execution_count": null,
   "metadata": {},
   "outputs": [],
   "source": []
  }
 ],
 "metadata": {
  "kernelspec": {
   "display_name": "Python 3",
   "language": "python",
   "name": "python3"
  },
  "language_info": {
   "codemirror_mode": {
    "name": "ipython",
    "version": 3
   },
   "file_extension": ".py",
   "mimetype": "text/x-python",
   "name": "python",
   "nbconvert_exporter": "python",
   "pygments_lexer": "ipython3",
   "version": "3.7.3"
  }
 },
 "nbformat": 4,
 "nbformat_minor": 2
}
