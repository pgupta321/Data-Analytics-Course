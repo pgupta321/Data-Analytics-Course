{
 "cells": [
  {
   "cell_type": "code",
   "execution_count": 2,
   "metadata": {},
   "outputs": [],
   "source": [
    "# Dependencies\n",
    "import requests\n",
    "import pprint\n",
    "\n",
    "url = \"http://www.omdbapi.com/?apikey=trilogy&t=\""
   ]
  },
  {
   "cell_type": "code",
   "execution_count": 8,
   "metadata": {},
   "outputs": [
    {
     "data": {
      "text/plain": [
       "{'Title': 'Aliens',\n",
       " 'Year': '1986',\n",
       " 'Rated': 'R',\n",
       " 'Released': '18 Jul 1986',\n",
       " 'Runtime': '137 min',\n",
       " 'Genre': 'Action, Adventure, Sci-Fi, Thriller',\n",
       " 'Director': 'James Cameron',\n",
       " 'Writer': \"James Cameron (story by), David Giler (story by), Walter Hill (story by), Dan O'Bannon (based on characters created by), Ronald Shusett (based on characters created by), James Cameron (screenplay by)\",\n",
       " 'Actors': 'Sigourney Weaver, Carrie Henn, Michael Biehn, Paul Reiser',\n",
       " 'Plot': 'Ellen Ripley is rescued by a deep salvage team after being in hypersleep for 57 years. The moon that the Nostromo visited has been colonized, but contact is lost. This time, colonial marines have impressive firepower, but will that be enough?',\n",
       " 'Language': 'English',\n",
       " 'Country': 'USA, UK',\n",
       " 'Awards': 'Won 2 Oscars. Another 18 wins & 22 nominations.',\n",
       " 'Poster': 'https://m.media-amazon.com/images/M/MV5BZGU2OGY5ZTYtMWNhYy00NjZiLWI0NjUtZmNhY2JhNDRmODU3XkEyXkFqcGdeQXVyNzkwMjQ5NzM@._V1_SX300.jpg',\n",
       " 'Ratings': [{'Source': 'Internet Movie Database', 'Value': '8.4/10'},\n",
       "  {'Source': 'Rotten Tomatoes', 'Value': '99%'},\n",
       "  {'Source': 'Metacritic', 'Value': '84/100'}],\n",
       " 'Metascore': '84',\n",
       " 'imdbRating': '8.4',\n",
       " 'imdbVotes': '602,195',\n",
       " 'imdbID': 'tt0090605',\n",
       " 'Type': 'movie',\n",
       " 'DVD': '01 Jun 1999',\n",
       " 'BoxOffice': 'N/A',\n",
       " 'Production': '20th Century Fox',\n",
       " 'Website': 'https://www.foxmovies.com/movies/aliens',\n",
       " 'Response': 'True'}"
      ]
     },
     "execution_count": 8,
     "metadata": {},
     "output_type": "execute_result"
    }
   ],
   "source": [
    "# Who was the director of the movie Aliens?\n",
    "response = requests.get(url + 'Aliens').json()#['Writer']\n",
    "response"
   ]
  },
  {
   "cell_type": "code",
   "execution_count": 10,
   "metadata": {
    "scrolled": true
   },
   "outputs": [
    {
     "data": {
      "text/plain": [
       "'R'"
      ]
     },
     "execution_count": 10,
     "metadata": {},
     "output_type": "execute_result"
    }
   ],
   "source": [
    "# What was the movie Gladiator rated?\n",
    "requests.get(url + 'Gladiator').json()['Rated']"
   ]
  },
  {
   "cell_type": "code",
   "execution_count": 11,
   "metadata": {},
   "outputs": [
    {
     "data": {
      "text/plain": [
       "'2004'"
      ]
     },
     "execution_count": 11,
     "metadata": {},
     "output_type": "execute_result"
    }
   ],
   "source": [
    "# What year was 50 First Dates released?\n",
    "requests.get(url + '50 First Dates').json()['Year']"
   ]
  },
  {
   "cell_type": "code",
   "execution_count": 12,
   "metadata": {
    "scrolled": true
   },
   "outputs": [
    {
     "data": {
      "text/plain": [
       "'Jared Bush (screenplay by), Ron Clements (story by), John Musker (story by), Chris Williams (story by), Don Hall (story by), Pamela Ribon (story by), Aaron Kandell (story by), Jordan Kandell (story by)'"
      ]
     },
     "execution_count": 12,
     "metadata": {},
     "output_type": "execute_result"
    }
   ],
   "source": [
    "# Who wrote Moana?\n",
    "requests.get(url + 'Moana').json()['Writer']"
   ]
  },
  {
   "cell_type": "code",
   "execution_count": 13,
   "metadata": {
    "scrolled": true
   },
   "outputs": [
    {
     "data": {
      "text/plain": [
       "\"In a city of humanoid animals, a hustling theater impresario's attempt to save his theater with a singing competition becomes grander than he anticipates even as its finalists find that their lives will never be the same.\""
      ]
     },
     "execution_count": 13,
     "metadata": {},
     "output_type": "execute_result"
    }
   ],
   "source": [
    "# What was the plot of the movie Sing?\n",
    "requests.get(url + 'Sing').json()['Plot']"
   ]
  },
  {
   "cell_type": "code",
   "execution_count": null,
   "metadata": {},
   "outputs": [],
   "source": []
  }
 ],
 "metadata": {
  "kernelspec": {
   "display_name": "Python 3",
   "language": "python",
   "name": "python3"
  },
  "language_info": {
   "codemirror_mode": {
    "name": "ipython",
    "version": 3
   },
   "file_extension": ".py",
   "mimetype": "text/x-python",
   "name": "python",
   "nbconvert_exporter": "python",
   "pygments_lexer": "ipython3",
   "version": "3.7.3"
  },
  "varInspector": {
   "cols": {
    "lenName": 16,
    "lenType": 16,
    "lenVar": 40
   },
   "kernels_config": {
    "python": {
     "delete_cmd_postfix": "",
     "delete_cmd_prefix": "del ",
     "library": "var_list.py",
     "varRefreshCmd": "print(var_dic_list())"
    },
    "r": {
     "delete_cmd_postfix": ") ",
     "delete_cmd_prefix": "rm(",
     "library": "var_list.r",
     "varRefreshCmd": "cat(var_dic_list()) "
    }
   },
   "types_to_exclude": [
    "module",
    "function",
    "builtin_function_or_method",
    "instance",
    "_Feature"
   ],
   "window_display": false
  }
 },
 "nbformat": 4,
 "nbformat_minor": 2
}
